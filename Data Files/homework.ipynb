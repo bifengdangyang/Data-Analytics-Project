{
 "cells": [
  {
   "cell_type": "code",
   "execution_count": null,
   "metadata": {},
   "outputs": [],
   "source": [
    "# import library and set up db connection\n",
    "import sqlite3\n",
    "import pandas as pd\n",
    "\n",
    "con=sqlite3.connect('cici.db')\n",
    "con.text_factory = str\n",
    "cur=con.cursor()"
   ]
  },
  {
   "cell_type": "code",
   "execution_count": null,
   "metadata": {},
   "outputs": [],
   "source": [
    "# read in Stacked Roster.csv data and read in database\n",
    "df=pd.read_csv('Stacked Roster.csv',parse_dates=['Snapshot Date','Start Date'])\n",
    "df['Snapshot Date']=pd.to_datetime(df['Snapshot Date']).dt.date\n",
    "df['Start Date']=pd.to_datetime(df['Start Date']).dt.date\n",
    "df = df.where(pd.notnull(df), None)\n",
    "StackedRoster=[]\n",
    "StackedRoster=df.values.tolist()\n",
    "\n",
    "cur.execute('DROP TABLE IF EXISTS StackedRoster') \n",
    "cur.execute('CREATE TABLE StackedRoster(SnapshotDate date, ID integer, fullName text, firstName text, lastName text, StartDate date, YearsService double)')\n",
    "cur.executemany('INSERT OR IGNORE INTO StackedRoster VALUES(?,?,?,?,?,?,?)', StackedRoster)\n",
    "con.commit()"
   ]
  },
  {
   "cell_type": "code",
   "execution_count": null,
   "metadata": {},
   "outputs": [],
   "source": [
    "# read in Employee Terminations.csv data and read in database\n",
    "df2=pd.read_csv('Employee Terminations.csv',parse_dates=['Termination Date'])\n",
    "df2['Termination Date']=pd.to_datetime(df2['Termination Date']).dt.date\n",
    "df2 = df2.where(pd.notnull(df2), None)\n",
    "EmployeeTermination=[]\n",
    "EmployeeTermination=df2.values.tolist()\n",
    "\n",
    "cur.execute('DROP TABLE IF EXISTS EmployeeTermination') \n",
    "cur.execute('CREATE TABLE EmployeeTermination(ID integer, TerminationDate date)')\n",
    "cur.executemany('INSERT OR IGNORE INTO EmployeeTermination VALUES(?,?)', EmployeeTermination)\n",
    "con.commit()"
   ]
  },
  {
   "cell_type": "code",
   "execution_count": null,
   "metadata": {},
   "outputs": [],
   "source": [
    "# read in Employee Education.csv data and read in database\n",
    "df3=pd.read_csv('Employee Education.csv',parse_dates=['Year Degree Received'])\n",
    "df3['Year Degree Received']=pd.to_datetime(df3['Year Degree Received']).dt.date\n",
    "df3 = df3.where(pd.notnull(df3), None)\n",
    "EmployeeEducation=[]\n",
    "EmployeeEducation=df3.values.tolist()\n",
    " \n",
    "\n",
    "cur.execute('DROP TABLE IF EXISTS EmployeeEducation') \n",
    "cur.execute('CREATE TABLE EmployeeEducation(ID integer, school text, degree text, received text, degreeDate date)')\n",
    "cur.executemany('INSERT OR IGNORE INTO EmployeeEducation VALUES(?,?,?,?,?)', EmployeeEducation)\n",
    "con.commit()"
   ]
  },
  {
   "cell_type": "code",
   "execution_count": null,
   "metadata": {},
   "outputs": [],
   "source": [
    "# read in Employee Demographics.csvdata and read in database\n",
    "df4=pd.read_csv('Employee Demographics.csv',parse_dates=['Employee Birth Date'])\n",
    "df4['Employee Birth Date']=pd.to_datetime(df4['Employee Birth Date']).dt.date\n",
    "df4 = df4.where(pd.notnull(df4), None)\n",
    "EmployeeDemographics=[]\n",
    "EmployeeDemographics=df4.values.tolist()\n",
    " \n",
    "\n",
    "cur.execute('DROP TABLE IF EXISTS EmployeeDemographics') \n",
    "cur.execute('CREATE TABLE EmployeeDemographics(ID integer, gender text, birthday date, diversity text)')\n",
    "cur.executemany('INSERT OR IGNORE INTO EmployeeDemographics VALUES(?,?,?,?)', EmployeeDemographics)\n",
    "con.commit()"
   ]
  },
  {
   "cell_type": "code",
   "execution_count": null,
   "metadata": {},
   "outputs": [],
   "source": [
    "# a.Employee age (at the time of the roster snapshot)\n",
    "# calculate age by join  StackedRoster  and EmployeeDemographics  two tables \n",
    "sql1 = '''CREATE TABLE IF NOT EXISTS Stack_age AS \n",
    "select *, (StackedRoster.SnapshotDate- EmployeeDemographics.birthday) AS AGE from StackedRoster JOIN EmployeeDemographics on StackedRoster.ID=EmployeeDemographics.ID '''\n",
    "\n",
    "cur.execute(sql1)\n",
    "con.commit()"
   ]
  },
  {
   "cell_type": "code",
   "execution_count": null,
   "metadata": {},
   "outputs": [],
   "source": [
    "# b.Highest degree earned (at the time of the roster snapshot) \n",
    "# by looking at data, we have cases below:\n",
    "# 1 degree received is NULL, degree year has value : I take it as degree earned \n",
    "# 2 degree received is Yes, degree year is Null :  I take it as degree not earned \n",
    "# 3 degree received is Yes, degree year has value : I take it as degree earned \n",
    "# 4 degree received is NULL, degree year is Null : I take it as degree not earned \n",
    "#...etc \n",
    "# In summary ,as along as we have degree year and degree received is not No,  I treated it as degree is earned \n",
    "\n",
    "sql2 = '''CREATE TABLE IF NOT EXISTS Stack_age_HighDegree AS \n",
    "select SnapshotDate, Stack_age.ID, fullName, firstName, lastName, StartDate,YearsService,birthday,AGE, school, degree as 'HighestDegree' from Stack_age JOIN EmployeeEducation on Stack_age.ID=EmployeeEducation.ID AND degreeDate<SnapshotDate AND  received NOT NULL'''\n",
    "\n",
    "cur.execute(sql2)\n",
    "con.commit()\n"
   ]
  },
  {
   "cell_type": "code",
   "execution_count": null,
   "metadata": {},
   "outputs": [],
   "source": [
    "#c.The percentage of employees who attended the school where the employee earned their highest degree (at the time of the roster snapshot)\n",
    "\n",
    "sql3 = '''CREATE TABLE IF NOT EXISTS Stack_age_HighDegree_percentage AS \n",
    "select * ,(select count(distinct(ID)) from EmployeeEducation where school=Stack_age_HighDegree.school)* 1.0/(select count(distinct(ID)) from EmployeeEducation) AS School_Attend_percentage from Stack_age_HighDegree'''\n",
    "\n",
    "cur.execute(sql3)\n",
    "con.commit()"
   ]
  },
  {
   "cell_type": "code",
   "execution_count": null,
   "metadata": {},
   "outputs": [],
   "source": [
    "#3.Create a binary target column indicating whether an employee will terminate employment in the next 6 months.\n",
    "sql4 = '''CREATE TABLE IF NOT EXISTS Stack_age_HighDegree_percentage_terminateInSix AS \n",
    "select SnapshotDate, Stack_age_HighDegree_percentage.ID, fullName, firstName, lastName, StartDate,YearsService,birthday,AGE, school, HighestDegree, School_Attend_percentage, (Date(Stack_age_HighDegree_percentage.SnapshotDate,'+6 months' )<EmployeeTermination.TerminationDate) as TerminateInSix from Stack_age_HighDegree_percentage JOIN EmployeeTermination on Stack_age_HighDegree_percentage.ID=EmployeeTermination.ID '''\n",
    "\n",
    "cur.execute(sql4)\n",
    "con.commit()\n"
   ]
  }
 ],
 "metadata": {
  "kernelspec": {
   "display_name": "Python 3",
   "language": "python",
   "name": "python3"
  },
  "language_info": {
   "codemirror_mode": {
    "name": "ipython",
    "version": 3
   },
   "file_extension": ".py",
   "mimetype": "text/x-python",
   "name": "python",
   "nbconvert_exporter": "python",
   "pygments_lexer": "ipython3",
   "version": "3.8.5"
  }
 },
 "nbformat": 4,
 "nbformat_minor": 4
}
